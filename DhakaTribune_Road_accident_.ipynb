{
  "nbformat": 4,
  "nbformat_minor": 0,
  "metadata": {
    "kernelspec": {
      "display_name": "Python 3",
      "language": "python",
      "name": "python3"
    },
    "language_info": {
      "codemirror_mode": {
        "name": "ipython",
        "version": 3
      },
      "file_extension": ".py",
      "mimetype": "text/x-python",
      "name": "python",
      "nbconvert_exporter": "python",
      "pygments_lexer": "ipython3",
      "version": "3.7.0"
    },
    "colab": {
      "provenance": []
    }
  },
  "cells": [
    {
      "cell_type": "code",
      "metadata": {
        "id": "E8D8P73al7HI"
      },
      "source": [
        "# need to do is to read the HTML for this article into Python, we'll do using the requests library\n",
        "import datetime\n",
        "import requests\n",
        "r = requests.get('https://www.dhakatribune.com/hashtag/road-accident')"
      ],
      "execution_count": null,
      "outputs": []
    },
    {
      "cell_type": "code",
      "metadata": {
        "colab": {
          "base_uri": "https://localhost:8080/"
        },
        "id": "--DoPi_al7HN",
        "outputId": "0c8aada9-f3d9-42d3-ea7f-350bd6593d12"
      },
      "source": [
        "# print the first 500 characters of the HTML\n",
        "print(r.text[0:500])\n"
      ],
      "execution_count": null,
      "outputs": [
        {
          "output_type": "stream",
          "text": [
            "<!doctype html>\n",
            "<html class=\"no-js\" lang=\"\">\n",
            "<head>\n",
            "<meta charset=\"utf-8\">\n",
            "<meta http-equiv=\"x-ua-compatible\" content=\"ie=edge\">\n",
            "<meta name=\"viewport\" content=\"width=device-width, initial-scale=1\">\n",
            "<meta property=\"fb:app_id\" content=\"403175913072993\" />\n",
            "<meta property=\"fb:pages\" content=\"356336144441710\" />\n",
            "<meta name=\"google-site-verification\" content=\"rwA20GxfB6VqAxg3mvoyLC9j1ORIq1UL1N48kAl2VyI\" /> <title>Dhaka Tribune | Road Accident  news update in Bangladesh, World</title>\n",
            "<meta property=\"t\n"
          ],
          "name": "stdout"
        }
      ]
    },
    {
      "cell_type": "code",
      "metadata": {
        "id": "qh-HCqY5l7HQ"
      },
      "source": [
        "#to parse the HTML using the Beautiful Soup 4 library\n",
        "from bs4 import BeautifulSoup\n",
        "soup = BeautifulSoup(r.text, 'html.parser')"
      ],
      "execution_count": null,
      "outputs": []
    },
    {
      "cell_type": "code",
      "metadata": {
        "id": "rIhHSnSIl7HR"
      },
      "source": [
        "#This code searches the soup object for all <div> tags with the attribute class=\"top-news-cont list-para\"\n",
        "results = soup.find_all('div', attrs={'class':'top-news-cont list-para'})"
      ],
      "execution_count": null,
      "outputs": []
    },
    {
      "cell_type": "code",
      "metadata": {
        "id": "jP30aJJqMEUt"
      },
      "source": [
        "results"
      ],
      "execution_count": null,
      "outputs": []
    },
    {
      "cell_type": "code",
      "metadata": {
        "colab": {
          "base_uri": "https://localhost:8080/"
        },
        "id": "EuecURgWl7HS",
        "outputId": "9607749f-4cdb-4c2e-947f-e392e5714842"
      },
      "source": [
        "#length of the results\n",
        "len(results)"
      ],
      "execution_count": null,
      "outputs": [
        {
          "output_type": "execute_result",
          "data": {
            "text/plain": [
              "21"
            ]
          },
          "metadata": {
            "tags": []
          },
          "execution_count": 11
        }
      ]
    },
    {
      "cell_type": "code",
      "metadata": {
        "id": "xKnJe-Ytl7HT"
      },
      "source": [
        "#We can also slice the object like a list, in order to examine the list\n",
        "results[0:21]"
      ],
      "execution_count": null,
      "outputs": []
    },
    {
      "cell_type": "code",
      "metadata": {
        "colab": {
          "base_uri": "https://localhost:8080/"
        },
        "id": "9IfPaKVFl7HU",
        "outputId": "2e332b75-3224-4830-cf93-191f72573200"
      },
      "source": [
        "#to see the first result\n",
        "results[0]"
      ],
      "execution_count": null,
      "outputs": [
        {
          "output_type": "execute_result",
          "data": {
            "text/plain": [
              "<div class=\"top-news-cont list-para\">\n",
              "<a href=\"/world/africa/2021/08/03/37-killed-in-road-accident-in-central-mali\">\n",
              "<h4 class=\"news-title\">\n",
              "37 killed in road accident in central...\n",
              "</h4>\n",
              "</a>\n",
              "<div class=\"listing-time\">\n",
              "<a href=\"/articles/world/africa\">Africa</a>\n",
              "<h4>Tue, Aug 3 2021 </h4>\n",
              "</div>\n",
              "<p>\n",
              "Road accidents are a regular occurrence in the former French colony, where the poor state of the motorways...\n",
              "</p>\n",
              "</div>"
            ]
          },
          "metadata": {
            "tags": []
          },
          "execution_count": 13
        }
      ]
    },
    {
      "cell_type": "code",
      "metadata": {
        "id": "DrD__vNll7HW",
        "colab": {
          "base_uri": "https://localhost:8080/"
        },
        "outputId": "8747bf7a-3b9f-4a2c-9c2c-e53ac3796ac6"
      },
      "source": [
        "#we'll start by only working with the first record in the results object, and then later on we'll modify our code to use a loop\n",
        "first_result = results[0]\n",
        "first_result"
      ],
      "execution_count": null,
      "outputs": [
        {
          "output_type": "execute_result",
          "data": {
            "text/plain": [
              "<div class=\"top-news-cont list-para\">\n",
              "<a href=\"/world/africa/2021/08/03/37-killed-in-road-accident-in-central-mali\">\n",
              "<h4 class=\"news-title\">\n",
              "37 killed in road accident in central...\n",
              "</h4>\n",
              "</a>\n",
              "<div class=\"listing-time\">\n",
              "<a href=\"/articles/world/africa\">Africa</a>\n",
              "<h4>Tue, Aug 3 2021 </h4>\n",
              "</div>\n",
              "<p>\n",
              "Road accidents are a regular occurrence in the former French colony, where the poor state of the motorways...\n",
              "</p>\n",
              "</div>"
            ]
          },
          "metadata": {
            "tags": []
          },
          "execution_count": 12
        }
      ]
    },
    {
      "cell_type": "code",
      "metadata": {
        "id": "ZTD1j4zMl7HX",
        "outputId": "a20ff6a8-3a74-445b-e752-34d256a171d3"
      },
      "source": [
        "#find() method to find a single tag that matches a specific pattern, in contrast to the find_all() method we used above to find all tags that match a pattern\n",
        "first_result.find('a')"
      ],
      "execution_count": null,
      "outputs": [
        {
          "output_type": "execute_result",
          "data": {
            "text/plain": [
              "<a href=\"/bangladesh/nation/2021/02/26/7-killed-in-sylhet-road-accident\">\n",
              "<h4 class=\"news-title\">\n",
              "Road accidents claim 24 lives across...\n",
              "</h4>\n",
              "</a>"
            ]
          },
          "metadata": {
            "tags": []
          },
          "execution_count": 12
        }
      ]
    },
    {
      "cell_type": "code",
      "metadata": {
        "id": "9-AGs5UEl7HZ",
        "outputId": "2e3b5d2f-ad21-4b0e-9292-5600d7a777dd"
      },
      "source": [
        "first_result.find('a')['href']"
      ],
      "execution_count": null,
      "outputs": [
        {
          "output_type": "execute_result",
          "data": {
            "text/plain": [
              "'/bangladesh/nation/2021/02/26/7-killed-in-sylhet-road-accident'"
            ]
          },
          "metadata": {
            "tags": []
          },
          "execution_count": 13
        }
      ]
    },
    {
      "cell_type": "code",
      "metadata": {
        "id": "i0gy4OWTl7Ha",
        "colab": {
          "base_uri": "https://localhost:8080/",
          "height": 35
        },
        "outputId": "a1b6b173-544f-4765-863a-a59ed4cf6e33"
      },
      "source": [
        "#Slice down the unnecessary text\n",
        "first_result.find('h4').text"
      ],
      "execution_count": null,
      "outputs": [
        {
          "output_type": "execute_result",
          "data": {
            "application/vnd.google.colaboratory.intrinsic+json": {
              "type": "string"
            },
            "text/plain": [
              "'\\n37 killed in road accident in central...\\n'"
            ]
          },
          "metadata": {
            "tags": []
          },
          "execution_count": 13
        }
      ]
    },
    {
      "cell_type": "code",
      "metadata": {
        "id": "RsZh3q81l7Ha",
        "outputId": "a21fe4e8-7500-498e-b1ea-7fee62980e86"
      },
      "source": [
        "first_result.find('h4').text[1:-4]"
      ],
      "execution_count": null,
      "outputs": [
        {
          "output_type": "execute_result",
          "data": {
            "text/plain": [
              "'Road accidents claim 24 lives across'"
            ]
          },
          "metadata": {
            "tags": []
          },
          "execution_count": 15
        }
      ]
    },
    {
      "cell_type": "code",
      "metadata": {
        "id": "pvItPpDEl7Hd",
        "outputId": "b92ff118-f490-4c41-d81a-416bce67c9cd"
      },
      "source": [
        "first_result.find('p').text"
      ],
      "execution_count": null,
      "outputs": [
        {
          "output_type": "execute_result",
          "data": {
            "text/plain": [
              "'\\nAt least 26 people sustained injuries\\n'"
            ]
          },
          "metadata": {
            "tags": []
          },
          "execution_count": 16
        }
      ]
    },
    {
      "cell_type": "code",
      "metadata": {
        "id": "WLDSAxlyl7He",
        "outputId": "9b8ef0d0-5ac9-4219-d92a-a71d77a69857"
      },
      "source": [
        "first_result.find('p').text[1:-4]"
      ],
      "execution_count": null,
      "outputs": [
        {
          "output_type": "execute_result",
          "data": {
            "text/plain": [
              "'At least 26 people sustained injur'"
            ]
          },
          "metadata": {
            "tags": []
          },
          "execution_count": 17
        }
      ]
    },
    {
      "cell_type": "code",
      "metadata": {
        "id": "kCNP1jcxl7He"
      },
      "source": [
        "##This code searches the soup object for all <div> tags with the attribute class=\"listing-time\" to extrat the datetimeand we used myresults acts like a Python list\n",
        "myresults = soup.find_all('div', attrs={'class':'listing-time'})"
      ],
      "execution_count": null,
      "outputs": []
    },
    {
      "cell_type": "code",
      "metadata": {
        "id": "TC_9e46jl7Hf",
        "outputId": "2ff14209-50ad-4315-84e7-9d7f21610950"
      },
      "source": [
        "len(myresults)"
      ],
      "execution_count": null,
      "outputs": [
        {
          "output_type": "execute_result",
          "data": {
            "text/plain": [
              "21"
            ]
          },
          "metadata": {
            "tags": []
          },
          "execution_count": 19
        }
      ]
    },
    {
      "cell_type": "code",
      "metadata": {
        "id": "WSChu_kAl7Hf",
        "outputId": "a11057c5-063a-4f5c-c64d-668d5445d120"
      },
      "source": [
        "myresults[0:21]"
      ],
      "execution_count": null,
      "outputs": [
        {
          "output_type": "execute_result",
          "data": {
            "text/plain": [
              "[<div class=\"listing-time\">\n",
              " <a href=\"/articles/bangladesh/nation\">Nation</a>\n",
              " <h4>Fri, Feb 26 2021 </h4>\n",
              " </div>,\n",
              " <div class=\"listing-time\">\n",
              " <a href=\"/articles/bangladesh\">Bangladesh</a>\n",
              " <h4>Tue, Feb 23 2021 </h4>\n",
              " </div>,\n",
              " <div class=\"listing-time\">\n",
              " <a href=\"/articles/bangladesh/nation\">Nation</a>\n",
              " <h4>Tue, Feb 23 2021 </h4>\n",
              " </div>,\n",
              " <div class=\"listing-time\">\n",
              " <a href=\"/articles/bangladesh/chittagong\">Chittagong</a>\n",
              " <h4>Mon, Feb 22 2021 </h4>\n",
              " </div>,\n",
              " <div class=\"listing-time\">\n",
              " <a href=\"/articles/bangladesh/nation\">Nation</a>\n",
              " <h4>Sun, Feb 21 2021 </h4>\n",
              " </div>,\n",
              " <div class=\"listing-time\">\n",
              " <a href=\"/articles/bangladesh/nation\">Nation</a>\n",
              " <h4>Fri, Feb 19 2021 </h4>\n",
              " </div>,\n",
              " <div class=\"listing-time\">\n",
              " <a href=\"/articles/world/north-america\">North America</a>\n",
              " <h4>Fri, Feb 19 2021 </h4>\n",
              " </div>,\n",
              " <div class=\"listing-time\">\n",
              " <a href=\"/articles/bangladesh/dhaka\">Dhaka</a>\n",
              " <h4>Thu, Feb 18 2021 </h4>\n",
              " </div>,\n",
              " <div class=\"listing-time\">\n",
              " <a href=\"/articles/bangladesh/nation\">Nation</a>\n",
              " <h4>Wed, Feb 10 2021 </h4>\n",
              " </div>,\n",
              " <div class=\"listing-time\">\n",
              " <a href=\"/articles/bangladesh/nation\">Nation</a>\n",
              " <h4>Wed, Feb 10 2021 </h4>\n",
              " </div>,\n",
              " <div class=\"listing-time\">\n",
              " <a href=\"/articles/bangladesh\">Bangladesh</a>\n",
              " <h4>Tue, Feb 9 2021 </h4>\n",
              " </div>,\n",
              " <div class=\"listing-time\">\n",
              " <a href=\"/articles/bangladesh\">Bangladesh</a>\n",
              " <h4>Sat, Feb 6 2021 </h4>\n",
              " </div>,\n",
              " <div class=\"listing-time\">\n",
              " <a href=\"/articles/bangladesh/nation\">Nation</a>\n",
              " <h4>Sat, Feb 6 2021 </h4>\n",
              " </div>,\n",
              " <div class=\"listing-time\">\n",
              " <a href=\"/articles/bangladesh/nation\">Nation</a>\n",
              " <h4>Fri, Feb 5 2021 </h4>\n",
              " </div>,\n",
              " <div class=\"listing-time\">\n",
              " <a href=\"/articles/bangladesh/nation\">Nation</a>\n",
              " <h4>Thu, Feb 4 2021 </h4>\n",
              " </div>,\n",
              " <div class=\"listing-time\">\n",
              " <a href=\"/articles/world/africa\">Africa</a>\n",
              " <h4>Wed, Feb 3 2021 </h4>\n",
              " </div>,\n",
              " <div class=\"listing-time\">\n",
              " <a href=\"/articles/bangladesh/dhaka\">Dhaka</a>\n",
              " <h4>Thu, Jan 28 2021 </h4>\n",
              " </div>,\n",
              " <div class=\"listing-time\">\n",
              " <a href=\"/articles/bangladesh/nation\">Nation</a>\n",
              " <h4>Thu, Jan 21 2021 </h4>\n",
              " </div>,\n",
              " <div class=\"listing-time\">\n",
              " <a href=\"/articles/bangladesh/dhaka\">Dhaka</a>\n",
              " <h4>Wed, Jan 20 2021 </h4>\n",
              " </div>,\n",
              " <div class=\"listing-time\">\n",
              " <a href=\"/articles/accident\">Accident</a>\n",
              " <h4>Tue, Jan 19 2021 </h4>\n",
              " </div>,\n",
              " <div class=\"listing-time\">\n",
              " <a href=\"/articles/world/east-asia\">East Asia</a>\n",
              " <h4>Tue, Jan 19 2021 </h4>\n",
              " </div>]"
            ]
          },
          "metadata": {
            "tags": []
          },
          "execution_count": 20
        }
      ]
    },
    {
      "cell_type": "code",
      "metadata": {
        "id": "eG2EZtgXl7Hf",
        "outputId": "6a554a7b-725c-40a3-ac39-b986432cdd8a"
      },
      "source": [
        "myresults[0]"
      ],
      "execution_count": null,
      "outputs": [
        {
          "output_type": "execute_result",
          "data": {
            "text/plain": [
              "<div class=\"listing-time\">\n",
              "<a href=\"/articles/bangladesh/nation\">Nation</a>\n",
              "<h4>Fri, Feb 26 2021 </h4>\n",
              "</div>"
            ]
          },
          "metadata": {
            "tags": []
          },
          "execution_count": 21
        }
      ]
    },
    {
      "cell_type": "code",
      "metadata": {
        "id": "sJ9Nmw7Zl7Hg",
        "outputId": "d29f255d-c305-4084-88fe-4dad927bc3f5"
      },
      "source": [
        "first_result = myresults[0]\n",
        "first_result"
      ],
      "execution_count": null,
      "outputs": [
        {
          "output_type": "execute_result",
          "data": {
            "text/plain": [
              "<div class=\"listing-time\">\n",
              "<a href=\"/articles/bangladesh/nation\">Nation</a>\n",
              "<h4>Fri, Feb 26 2021 </h4>\n",
              "</div>"
            ]
          },
          "metadata": {
            "tags": []
          },
          "execution_count": 22
        }
      ]
    },
    {
      "cell_type": "code",
      "metadata": {
        "id": "V3qeHhpHl7Hg",
        "outputId": "e4419282-a7e4-44a2-e186-9d6b303fa825"
      },
      "source": [
        "first_result.find('h4').text"
      ],
      "execution_count": null,
      "outputs": [
        {
          "output_type": "execute_result",
          "data": {
            "text/plain": [
              "'Fri, Feb 26 2021 '"
            ]
          },
          "metadata": {
            "tags": []
          },
          "execution_count": 23
        }
      ]
    },
    {
      "cell_type": "code",
      "metadata": {
        "id": "7TPZKnHpl7Hg"
      },
      "source": [
        "#Now that we've figured out how to extract the components of first_result, we can create a loop to repeat this process on all 21 results. We'll store the output in a list of tuples called records\n",
        "records = []\n",
        "\n",
        "for result in results:\n",
        "    Title = result.find('h4').text[1:-4]\n",
        "    Info = result.find('p').text[1:-4]\n",
        "    url = result.find('a')['href']\n",
        "    records.append((Title, Info, url))"
      ],
      "execution_count": null,
      "outputs": []
    },
    {
      "cell_type": "code",
      "metadata": {
        "id": "ce_YCR4Nl7Hh"
      },
      "source": [
        "# We can convert our list of tuples into a DataFrame by passing it to the DataFrame constructor and specifying the desired column names\n",
        "import pandas as pd\n",
        "df = pd.DataFrame(records, columns=['Title', 'Info', 'url'])"
      ],
      "execution_count": null,
      "outputs": []
    },
    {
      "cell_type": "code",
      "metadata": {
        "id": "Os9sUBUol7Hh"
      },
      "source": [
        "#Make another tuple called records1 for datetime\n",
        "records1 = []\n",
        "\n",
        "for result in myresults:\n",
        "    Date = result.find('h4').text\n",
        "    records1.append((Date))"
      ],
      "execution_count": null,
      "outputs": []
    },
    {
      "cell_type": "code",
      "metadata": {
        "id": "FRoa7l7Yl7Hi"
      },
      "source": [
        "# We can convert our list of tuples into a DataFrame by passing it to the DataFrame constructor and specifying the desired column names\n",
        "import pandas as pd\n",
        "df1 = pd.DataFrame(records1, columns=['Date'])"
      ],
      "execution_count": null,
      "outputs": []
    },
    {
      "cell_type": "code",
      "metadata": {
        "colab": {
          "base_uri": "https://localhost:8080/",
          "height": 218
        },
        "id": "ReWclocrl7Hi",
        "outputId": "8fc9342b-d2ba-4c45-9de1-652387b64274"
      },
      "source": [
        "#concatenate df and df1 or adding dataframes\n",
        "df_DhakaTribune = pd.concat([df, df1],axis=1)\n",
        "\n",
        "df_DhakaTribune"
      ],
      "execution_count": null,
      "outputs": [
        {
          "output_type": "error",
          "ename": "NameError",
          "evalue": "ignored",
          "traceback": [
            "\u001b[0;31m---------------------------------------------------------------------------\u001b[0m",
            "\u001b[0;31mNameError\u001b[0m                                 Traceback (most recent call last)",
            "\u001b[0;32m<ipython-input-14-365e879491a4>\u001b[0m in \u001b[0;36m<module>\u001b[0;34m()\u001b[0m\n\u001b[1;32m      1\u001b[0m \u001b[0;31m#concatenate df and df1 or adding dataframes\u001b[0m\u001b[0;34m\u001b[0m\u001b[0;34m\u001b[0m\u001b[0;34m\u001b[0m\u001b[0m\n\u001b[0;32m----> 2\u001b[0;31m \u001b[0mdf_DhakaTribune\u001b[0m \u001b[0;34m=\u001b[0m \u001b[0mpd\u001b[0m\u001b[0;34m.\u001b[0m\u001b[0mconcat\u001b[0m\u001b[0;34m(\u001b[0m\u001b[0;34m[\u001b[0m\u001b[0mdf\u001b[0m\u001b[0;34m,\u001b[0m \u001b[0mdf1\u001b[0m\u001b[0;34m]\u001b[0m\u001b[0;34m,\u001b[0m\u001b[0maxis\u001b[0m\u001b[0;34m=\u001b[0m\u001b[0;36m1\u001b[0m\u001b[0;34m)\u001b[0m\u001b[0;34m\u001b[0m\u001b[0;34m\u001b[0m\u001b[0m\n\u001b[0m\u001b[1;32m      3\u001b[0m \u001b[0;34m\u001b[0m\u001b[0m\n\u001b[1;32m      4\u001b[0m \u001b[0mdf_DhakaTribune\u001b[0m\u001b[0;34m\u001b[0m\u001b[0;34m\u001b[0m\u001b[0m\n",
            "\u001b[0;31mNameError\u001b[0m: name 'pd' is not defined"
          ]
        }
      ]
    },
    {
      "cell_type": "code",
      "metadata": {
        "id": "vO61H7Url7Hi",
        "outputId": "66565608-04f6-4be6-c26e-286cc04375d4"
      },
      "source": [
        "df_DhakaTribune.head()"
      ],
      "execution_count": null,
      "outputs": [
        {
          "output_type": "execute_result",
          "data": {
            "text/html": [
              "<div>\n",
              "<style scoped>\n",
              "    .dataframe tbody tr th:only-of-type {\n",
              "        vertical-align: middle;\n",
              "    }\n",
              "\n",
              "    .dataframe tbody tr th {\n",
              "        vertical-align: top;\n",
              "    }\n",
              "\n",
              "    .dataframe thead th {\n",
              "        text-align: right;\n",
              "    }\n",
              "</style>\n",
              "<table border=\"1\" class=\"dataframe\">\n",
              "  <thead>\n",
              "    <tr style=\"text-align: right;\">\n",
              "      <th></th>\n",
              "      <th>Title</th>\n",
              "      <th>Info</th>\n",
              "      <th>url</th>\n",
              "      <th>Date</th>\n",
              "    </tr>\n",
              "  </thead>\n",
              "  <tbody>\n",
              "    <tr>\n",
              "      <th>0</th>\n",
              "      <td>Road accidents claim 24 lives across</td>\n",
              "      <td>At least 26 people sustained injur</td>\n",
              "      <td>/bangladesh/nation/2021/02/26/7-killed-in-sylh...</td>\n",
              "      <td>Fri, Feb 26 2021</td>\n",
              "    </tr>\n",
              "    <tr>\n",
              "      <th>1</th>\n",
              "      <td>2 killed in Chapainawabganj road</td>\n",
              "      <td>Police have seized the deadly truck and arrest...</td>\n",
              "      <td>/bangladesh/2021/02/23/2-killed-in-chapainawab...</td>\n",
              "      <td>Tue, Feb 23 2021</td>\n",
              "    </tr>\n",
              "    <tr>\n",
              "      <th>2</th>\n",
              "      <td>6 die in Sirajganj, Rajshahi road</td>\n",
              "      <td>Police say seven of the 23 injured are in crit...</td>\n",
              "      <td>/bangladesh/nation/2021/02/23/5-killed-23-inju...</td>\n",
              "      <td>Tue, Feb 23 2021</td>\n",
              "    </tr>\n",
              "    <tr>\n",
              "      <th>3</th>\n",
              "      <td>Bus-truck collision leaves 2 dead in</td>\n",
              "      <td>Police seized the two vehic</td>\n",
              "      <td>/bangladesh/chittagong/2021/02/22/bus-truck-co...</td>\n",
              "      <td>Mon, Feb 22 2021</td>\n",
              "    </tr>\n",
              "    <tr>\n",
              "      <th>4</th>\n",
              "      <td>6 killed in Bogra bus-truck</td>\n",
              "      <td>The bus was recklessly overtaking another vehi...</td>\n",
              "      <td>/bangladesh/nation/2021/02/21/6-killed-in-bogr...</td>\n",
              "      <td>Sun, Feb 21 2021</td>\n",
              "    </tr>\n",
              "  </tbody>\n",
              "</table>\n",
              "</div>"
            ],
            "text/plain": [
              "                                  Title  \\\n",
              "0  Road accidents claim 24 lives across   \n",
              "1      2 killed in Chapainawabganj road   \n",
              "2     6 die in Sirajganj, Rajshahi road   \n",
              "3  Bus-truck collision leaves 2 dead in   \n",
              "4           6 killed in Bogra bus-truck   \n",
              "\n",
              "                                                Info  \\\n",
              "0                 At least 26 people sustained injur   \n",
              "1  Police have seized the deadly truck and arrest...   \n",
              "2  Police say seven of the 23 injured are in crit...   \n",
              "3                        Police seized the two vehic   \n",
              "4  The bus was recklessly overtaking another vehi...   \n",
              "\n",
              "                                                 url               Date  \n",
              "0  /bangladesh/nation/2021/02/26/7-killed-in-sylh...  Fri, Feb 26 2021   \n",
              "1  /bangladesh/2021/02/23/2-killed-in-chapainawab...  Tue, Feb 23 2021   \n",
              "2  /bangladesh/nation/2021/02/23/5-killed-23-inju...  Tue, Feb 23 2021   \n",
              "3  /bangladesh/chittagong/2021/02/22/bus-truck-co...  Mon, Feb 22 2021   \n",
              "4  /bangladesh/nation/2021/02/21/6-killed-in-bogr...  Sun, Feb 21 2021   "
            ]
          },
          "metadata": {
            "tags": []
          },
          "execution_count": 29
        }
      ]
    },
    {
      "cell_type": "code",
      "metadata": {
        "id": "dpbMN2b6l7Hj",
        "outputId": "86ba14bf-585a-4c61-a850-c285d86af026"
      },
      "source": [
        "df_DhakaTribune.tail()"
      ],
      "execution_count": null,
      "outputs": [
        {
          "output_type": "execute_result",
          "data": {
            "text/html": [
              "<div>\n",
              "<style scoped>\n",
              "    .dataframe tbody tr th:only-of-type {\n",
              "        vertical-align: middle;\n",
              "    }\n",
              "\n",
              "    .dataframe tbody tr th {\n",
              "        vertical-align: top;\n",
              "    }\n",
              "\n",
              "    .dataframe thead th {\n",
              "        text-align: right;\n",
              "    }\n",
              "</style>\n",
              "<table border=\"1\" class=\"dataframe\">\n",
              "  <thead>\n",
              "    <tr style=\"text-align: right;\">\n",
              "      <th></th>\n",
              "      <th>Title</th>\n",
              "      <th>Info</th>\n",
              "      <th>url</th>\n",
              "      <th>Date</th>\n",
              "    </tr>\n",
              "  </thead>\n",
              "  <tbody>\n",
              "    <tr>\n",
              "      <th>16</th>\n",
              "      <td>10-year-old boy killed in Dhaka road</td>\n",
              "      <td>The accident happened in the capital’s Hazarib...</td>\n",
              "      <td>/bangladesh/dhaka/2021/01/28/10-year-old-boy-k...</td>\n",
              "      <td>Thu, Jan 28 2021</td>\n",
              "    </tr>\n",
              "    <tr>\n",
              "      <th>17</th>\n",
              "      <td>3 die as car falls into ditch in</td>\n",
              "      <td>Five others taken to hospital in critical condit</td>\n",
              "      <td>/bangladesh/nation/2021/01/21/3-die-as-jeep-fa...</td>\n",
              "      <td>Thu, Jan 21 2021</td>\n",
              "    </tr>\n",
              "    <tr>\n",
              "      <th>18</th>\n",
              "      <td>One killed in Dhaka road accid</td>\n",
              "      <td>Police yet to identify the decea</td>\n",
              "      <td>/bangladesh/dhaka/2021/01/20/one-killed-in-dha...</td>\n",
              "      <td>Wed, Jan 20 2021</td>\n",
              "    </tr>\n",
              "    <tr>\n",
              "      <th>19</th>\n",
              "      <td>Policeman dies in Dhaka r</td>\n",
              "      <td>The police officer’s body was handed over to h...</td>\n",
              "      <td>/accident/2021/01/19/policeman-dies-in-road-ac...</td>\n",
              "      <td>Tue, Jan 19 2021</td>\n",
              "    </tr>\n",
              "    <tr>\n",
              "      <th>20</th>\n",
              "      <td>Chaos as snow hits Japan</td>\n",
              "      <td>Some 200 people were caught up in the crashes ...</td>\n",
              "      <td>/world/east-asia/2021/01/19/chaos-as-snow-hits...</td>\n",
              "      <td>Tue, Jan 19 2021</td>\n",
              "    </tr>\n",
              "  </tbody>\n",
              "</table>\n",
              "</div>"
            ],
            "text/plain": [
              "                                   Title  \\\n",
              "16  10-year-old boy killed in Dhaka road   \n",
              "17      3 die as car falls into ditch in   \n",
              "18        One killed in Dhaka road accid   \n",
              "19             Policeman dies in Dhaka r   \n",
              "20              Chaos as snow hits Japan   \n",
              "\n",
              "                                                 Info  \\\n",
              "16  The accident happened in the capital’s Hazarib...   \n",
              "17   Five others taken to hospital in critical condit   \n",
              "18                   Police yet to identify the decea   \n",
              "19  The police officer’s body was handed over to h...   \n",
              "20  Some 200 people were caught up in the crashes ...   \n",
              "\n",
              "                                                  url               Date  \n",
              "16  /bangladesh/dhaka/2021/01/28/10-year-old-boy-k...  Thu, Jan 28 2021   \n",
              "17  /bangladesh/nation/2021/01/21/3-die-as-jeep-fa...  Thu, Jan 21 2021   \n",
              "18  /bangladesh/dhaka/2021/01/20/one-killed-in-dha...  Wed, Jan 20 2021   \n",
              "19  /accident/2021/01/19/policeman-dies-in-road-ac...  Tue, Jan 19 2021   \n",
              "20  /world/east-asia/2021/01/19/chaos-as-snow-hits...  Tue, Jan 19 2021   "
            ]
          },
          "metadata": {
            "tags": []
          },
          "execution_count": 30
        }
      ]
    },
    {
      "cell_type": "code",
      "metadata": {
        "id": "_0w5MpIFl7Hj"
      },
      "source": [
        "#Convert dataframe into csv file\n",
        "df_DhakaTribune.to_csv('Dhaka tribune_page1.csv', index=False, encoding='utf-8')"
      ],
      "execution_count": null,
      "outputs": []
    },
    {
      "cell_type": "code",
      "metadata": {
        "colab": {
          "base_uri": "https://localhost:8080/",
          "height": 374
        },
        "id": "7Iu_ivDhl7Hj",
        "outputId": "c1ce1fb5-8b74-4225-844e-69baddbf8769"
      },
      "source": [
        "#Code for Extracting Paragraph for separte article or road accident news...\n",
        "import re\n",
        "import nltk\n",
        "import newspaper\n",
        "from newspaper import Article\n",
        "url = 'https://www.dhakatribune.com/bangladesh/nation/2021/02/23/5-killed-23-injured-in-bus-truck-collision-in-sirajganj'"
      ],
      "execution_count": null,
      "outputs": [
        {
          "output_type": "error",
          "ename": "ModuleNotFoundError",
          "evalue": "ignored",
          "traceback": [
            "\u001b[0;31m---------------------------------------------------------------------------\u001b[0m",
            "\u001b[0;31mModuleNotFoundError\u001b[0m                       Traceback (most recent call last)",
            "\u001b[0;32m<ipython-input-15-67016e75c2bc>\u001b[0m in \u001b[0;36m<module>\u001b[0;34m()\u001b[0m\n\u001b[1;32m      2\u001b[0m \u001b[0;32mimport\u001b[0m \u001b[0mre\u001b[0m\u001b[0;34m\u001b[0m\u001b[0;34m\u001b[0m\u001b[0m\n\u001b[1;32m      3\u001b[0m \u001b[0;32mimport\u001b[0m \u001b[0mnltk\u001b[0m\u001b[0;34m\u001b[0m\u001b[0;34m\u001b[0m\u001b[0m\n\u001b[0;32m----> 4\u001b[0;31m \u001b[0;32mimport\u001b[0m \u001b[0mnewspaper\u001b[0m\u001b[0;34m\u001b[0m\u001b[0;34m\u001b[0m\u001b[0m\n\u001b[0m\u001b[1;32m      5\u001b[0m \u001b[0;32mfrom\u001b[0m \u001b[0mnewspaper\u001b[0m \u001b[0;32mimport\u001b[0m \u001b[0mArticle\u001b[0m\u001b[0;34m\u001b[0m\u001b[0;34m\u001b[0m\u001b[0m\n\u001b[1;32m      6\u001b[0m \u001b[0murl\u001b[0m \u001b[0;34m=\u001b[0m \u001b[0;34m'https://www.dhakatribune.com/bangladesh/nation/2021/02/23/5-killed-23-injured-in-bus-truck-collision-in-sirajganj'\u001b[0m\u001b[0;34m\u001b[0m\u001b[0;34m\u001b[0m\u001b[0m\n",
            "\u001b[0;31mModuleNotFoundError\u001b[0m: No module named 'newspaper'",
            "",
            "\u001b[0;31m---------------------------------------------------------------------------\u001b[0;32m\nNOTE: If your import is failing due to a missing package, you can\nmanually install dependencies using either !pip or !apt.\n\nTo view examples of installing some common dependencies, click the\n\"Open Examples\" button below.\n\u001b[0;31m---------------------------------------------------------------------------\u001b[0m\n"
          ]
        }
      ]
    },
    {
      "cell_type": "code",
      "metadata": {
        "id": "SJuSjjqtl7Hk"
      },
      "source": [
        "article = Article(url)\n",
        "article.download()\n",
        "article.parse()"
      ],
      "execution_count": null,
      "outputs": []
    },
    {
      "cell_type": "code",
      "metadata": {
        "id": "El2B9wmGl7Hk",
        "outputId": "584971c0-9d06-40ab-fcdd-e82dae183f4c"
      },
      "source": [
        "print(article.text)"
      ],
      "execution_count": null,
      "outputs": [
        {
          "output_type": "stream",
          "text": [
            "Photo: Dhaka Tribune\n",
            "\n",
            "Police say seven of the 23 injured are in critical condition\n",
            "\n",
            "\n",
            "\n",
            "At least six people were killed and 23 others were injured in two separate incidents of head-on-collision between a bus and a truck in Sirajganj and Rajshahi on Tuesday.\n",
            "\n",
            "In Sirajganj, at least five people were killed and 15 others were injured in a head-on collision between a bus and a truck at Konabari in Kamarkhand upazila.\n",
            "\n",
            "One of the deceased was identified as Fazlul Haque, a 78-year-old freedom fighter from Bogra district. Identities of other victims are yet to be established, reports UNB.\n",
            "\n",
            "The accident occurred around 7:30am on Bangabandhu Bridge West Link highway.\n",
            "\n",
            "\"The Mymensingh-bound bus ferrying passengers from Bogra crashed into the truck coming from the opposite direction this morning,\" said Officer-in-Charge of Bangabandhu Bridge west police station Mosaddek Hossain.\n",
            "\n",
            "The impact of the collision was such that five people were killed on the spot, while 23 others sustained injuries, he said.\n",
            "\n",
            "Those injured were immediately rushed to 250-bed Bangamata Sheikh Fazilatunnesa Mujib General Hospital. \"Of the 15 injured, seven people are said to be in a critical condition,\" the officer said.\n",
            "\n",
            "The bodies have been sent to the local hospital morgue for autopsy.\n",
            "\n",
            "Meanwhile, in Rajshahi, another man died and at least eight others were injured in a head-on collision between a bus and a truck in the city.\n",
            "\n",
            "The incident took place around 11am on Tuesday when smoke from burning trash covered the Citihat area, reducing visibility on the road.\n",
            "\n",
            "Following the accident, Fire Service and Civil Defence rushed to the spot rescued the injured and sent them to Rajshahi Medical College Hospital (RMCH).\n",
            "\n",
            "One of the victims was declared dead at the hospital. The deceased identified as Md Zaman was the truck driver.\n",
            "\n",
            "Shah Makhdum police station OC Saiful Islam said: “The road has been cleared off. The injured are receiving treatment at the RMCH. After the legal process, the body of the victim will be handed over to the family.”\n",
            "\n",
            "Road accidents in Bangladesh\n",
            "\n",
            "Road accidents are one of the leading causes of deaths in Bangladesh, as 37,170 people were killed in 26,902 accidents across the country in the past five years.\n",
            "\n",
            "In January 2021 alone, as many as 484 people were killed and 673 injured in 427 road accidents across Bangladesh -- a 25.58% rise year-on-year, according to Road Safety Foundation (RSF).\n",
            "\n",
            "At least 445 lives were lost in 340 road accidents in January last year, RSF said on Saturday.\n",
            "\n",
            "World Bank Report on road safety\n",
            "\n",
            "As per a World Bank report, published in February 2020, Bangladesh needs to invest an estimated extra $7.8 billion over the next decade to halve its road crash fatalities.\n",
            "\n",
            "The report attributed the high death rate on Bangladesh roads to a chronic lack of investment in systemic, targeted, and sustained road safety programs.\n",
            "\n",
            "The annual road crash deaths per capita in Bangladesh are twice the average rate for high-income countries and five times that of the best-performing countries in the world, it said.\n",
            "\n",
            "Children and the working-age population are most affected by road crash injuries in Bangladesh, the World Bank report added.\n",
            "\n",
            "\n",
            "\n",
            "\n"
          ],
          "name": "stdout"
        }
      ]
    },
    {
      "cell_type": "code",
      "metadata": {
        "id": "eRM2sH67l7Hk",
        "outputId": "d7bc624d-89fb-4178-ca9f-e883a5b143c4"
      },
      "source": [
        "article.text"
      ],
      "execution_count": null,
      "outputs": [
        {
          "output_type": "execute_result",
          "data": {
            "text/plain": [
              "'Photo: Dhaka Tribune\\n\\nPolice say seven of the 23 injured are in critical condition\\n\\n\\n\\nAt least six people were killed and 23 others were injured in two separate incidents of head-on-collision between a bus and a truck in Sirajganj and Rajshahi on Tuesday.\\n\\nIn Sirajganj, at least five people were killed and 15 others were injured in a head-on collision between a bus and a truck at Konabari in Kamarkhand upazila.\\n\\nOne of the deceased was identified as Fazlul Haque, a 78-year-old freedom fighter from Bogra district. Identities of other victims are yet to be established, reports UNB.\\n\\nThe accident occurred around 7:30am on Bangabandhu Bridge West Link highway.\\n\\n\"The Mymensingh-bound bus ferrying passengers from Bogra crashed into the truck coming from the opposite direction this morning,\" said Officer-in-Charge of Bangabandhu Bridge west police station Mosaddek Hossain.\\n\\nThe impact of the collision was such that five people were killed on the spot, while 23 others sustained injuries, he said.\\n\\nThose injured were immediately rushed to 250-bed Bangamata Sheikh Fazilatunnesa Mujib General Hospital. \"Of the 15 injured, seven people are said to be in a critical condition,\" the officer said.\\n\\nThe bodies have been sent to the local hospital morgue for autopsy.\\n\\nMeanwhile, in Rajshahi, another man died and at least eight others were injured in a head-on collision between a bus and a truck in the city.\\n\\nThe incident took place around 11am on Tuesday when smoke from burning trash covered the Citihat area, reducing visibility on the road.\\n\\nFollowing the accident, Fire Service and Civil Defence rushed to the spot rescued the injured and sent them to Rajshahi Medical College Hospital (RMCH).\\n\\nOne of the victims was declared dead at the hospital. The deceased identified as Md Zaman was the truck driver.\\n\\nShah Makhdum police station OC Saiful Islam said: “The road has been cleared off. The injured are receiving treatment at the RMCH. After the legal process, the body of the victim will be handed over to the family.”\\n\\nRoad accidents in Bangladesh\\n\\nRoad accidents are one of the leading causes of deaths in Bangladesh, as 37,170 people were killed in 26,902 accidents across the country in the past five years.\\n\\nIn January 2021 alone, as many as 484 people were killed and 673 injured in 427 road accidents across Bangladesh -- a 25.58% rise year-on-year, according to Road Safety Foundation (RSF).\\n\\nAt least 445 lives were lost in 340 road accidents in January last year, RSF said on Saturday.\\n\\nWorld Bank Report on road safety\\n\\nAs per a World Bank report, published in February 2020, Bangladesh needs to invest an estimated extra $7.8 billion over the next decade to halve its road crash fatalities.\\n\\nThe report attributed the high death rate on Bangladesh roads to a chronic lack of investment in systemic, targeted, and sustained road safety programs.\\n\\nThe annual road crash deaths per capita in Bangladesh are twice the average rate for high-income countries and five times that of the best-performing countries in the world, it said.\\n\\nChildren and the working-age population are most affected by road crash injuries in Bangladesh, the World Bank report added.\\n\\n\\n\\n'"
            ]
          },
          "metadata": {
            "tags": []
          },
          "execution_count": 35
        }
      ]
    },
    {
      "cell_type": "code",
      "metadata": {
        "id": "iju-BQf8l7Hk",
        "outputId": "83f0809b-6ef2-4469-e83d-24aaec712dc4"
      },
      "source": [
        "#Extracting car type from the article\n",
        "car_record = 'Ambulance|Bus|Truck|Motor Cycle|Auto Rickshaw|Auto Tempo|Cargo Van|Covered Van|Delivery Van|Microbus |Jeep|Minibus|Motor Cycle|Motor Bike|Pick Up|Private car|Tanker|Texicab|CNG|Tractor'\n",
        "re.findall(car_record, article.text, re.IGNORECASE)"
      ],
      "execution_count": null,
      "outputs": [
        {
          "output_type": "execute_result",
          "data": {
            "text/plain": [
              "['bus', 'truck', 'bus', 'truck', 'bus', 'truck', 'bus', 'truck', 'truck']"
            ]
          },
          "metadata": {
            "tags": []
          },
          "execution_count": 38
        }
      ]
    },
    {
      "cell_type": "code",
      "metadata": {
        "id": "LnR_gHPtl7Hl",
        "outputId": "f62ece05-7b29-4b4a-c05b-4d93c91386b8"
      },
      "source": [
        "#Extracting city name from the article\n",
        "city_record = 'Dhaka|Chittagong|Khulna|Rajshahi|Gazipur|Sylhet|Mymensingh|Barisal|Rangpur|Comilla|Narayanganj'\n",
        "re.findall(city_record, article.text, re.IGNORECASE)"
      ],
      "execution_count": null,
      "outputs": [
        {
          "output_type": "execute_result",
          "data": {
            "text/plain": [
              "['Dhaka', 'Rajshahi', 'Mymensingh', 'Rajshahi', 'Rajshahi']"
            ]
          },
          "metadata": {
            "tags": []
          },
          "execution_count": 39
        }
      ]
    },
    {
      "cell_type": "code",
      "metadata": {
        "id": "E3bDve7el7Hl",
        "outputId": "a404210d-42cd-42d3-dbae-b0a9709f3df0"
      },
      "source": [
        "#finding the numbers\n",
        "a_string = article.text\n",
        "\n",
        "numbers = []\n",
        "for word in a_string.split():\n",
        "   if word.isdigit():\n",
        "      numbers.append(int(word))\n",
        "\n",
        "print(numbers)"
      ],
      "execution_count": null,
      "outputs": [
        {
          "output_type": "stream",
          "text": [
            "[23, 23, 15, 23, 15, 2021, 484, 673, 427, 445, 340]\n"
          ],
          "name": "stdout"
        }
      ]
    },
    {
      "cell_type": "code",
      "metadata": {
        "id": "C9zm0TiPl7Hl"
      },
      "source": [],
      "execution_count": null,
      "outputs": []
    }
  ]
}